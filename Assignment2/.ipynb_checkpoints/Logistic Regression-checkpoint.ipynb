{
 "cells": [
  {
   "cell_type": "markdown",
   "metadata": {},
   "source": [
    "<center><h1>Logistic Regression</h1><center>"
   ]
  },
  {
   "cell_type": "markdown",
   "metadata": {},
   "source": [
    "<p>Suppose that you are the administrator of a university department and\n",
    "you want to determine each applicant’s chance of admission based on their\n",
    "results on two exams. You have historical data from previous applicants\n",
    "that you can use as a training set for logistic regression. For each training\n",
    "example, you have the applicant’s scores on two exams and the admissions\n",
    "decision.\n",
    "Your task is to build a classification model that estimates an applicant’s\n",
    "probability of admission based the scores from those two exams.</p>"
   ]
  },
  {
   "cell_type": "code",
   "execution_count": 1,
   "metadata": {},
   "outputs": [],
   "source": [
    "import numpy as np\n",
    "import matplotlib.pyplot as plt\n",
    "import matplotlib\n",
    "from scipy.optimize import minimize\n",
    "from sklearn.preprocessing import PolynomialFeatures"
   ]
  },
  {
   "cell_type": "code",
   "execution_count": 2,
   "metadata": {},
   "outputs": [],
   "source": [
    "def sigmoid(Theta,X):\n",
    "    return (1/(1+np.exp(-X@Theta)))"
   ]
  },
  {
   "cell_type": "code",
   "execution_count": 3,
   "metadata": {},
   "outputs": [],
   "source": [
    "def costFunction(Theta,X,y):\n",
    "    m,n = X.shape\n",
    "    Theta = np.matrix(Theta).reshape(n,1)\n",
    "    H = sigmoid(Theta,X)\n",
    "    return ((-1/m)*(y.T@np.log(H) + (1-y).T@np.log(1-H))).item()"
   ]
  },
  {
   "cell_type": "code",
   "execution_count": 4,
   "metadata": {},
   "outputs": [],
   "source": [
    "def grad(Theta,X,y):\n",
    "    m,n = X.shape\n",
    "    Theta = np.matrix(Theta).reshape(n,1)\n",
    "    grad =(1/m)*(X.T @ (sigmoid(Theta,X)-y))\n",
    "    grad = np.squeeze(np.asarray(grad))\n",
    "    return grad"
   ]
  },
  {
   "cell_type": "code",
   "execution_count": 5,
   "metadata": {},
   "outputs": [],
   "source": [
    "def predict(Theta,X):\n",
    "    sigmoidVals = sigmoid(Theta,X)\n",
    "    return (sigmoidVals>=0.5).astype(int)"
   ]
  },
  {
   "cell_type": "code",
   "execution_count": 6,
   "metadata": {},
   "outputs": [],
   "source": [
    "data = np.loadtxt(\"Data/ex2data1.txt\",delimiter=\",\")\n",
    "X = data[:,:-1]\n",
    "y = data[:,-1:]"
   ]
  },
  {
   "cell_type": "code",
   "execution_count": 7,
   "metadata": {},
   "outputs": [],
   "source": [
    "positive = (y==1)\n",
    "negative = (y==0)"
   ]
  },
  {
   "cell_type": "code",
   "execution_count": 8,
   "metadata": {},
   "outputs": [
    {
     "data": {
      "text/plain": [
       "<matplotlib.legend.Legend at 0x244a5956c18>"
      ]
     },
     "execution_count": 8,
     "metadata": {},
     "output_type": "execute_result"
    },
    {
     "data": {
      "image/png": "[encoded data removed]",
      "text/plain": [
       "<Figure size 432x288 with 1 Axes>"
      ]
     },
     "metadata": {
      "needs_background": "light"
     },
     "output_type": "display_data"
    }
   ],
   "source": [
    "fig, ax = plt.subplots()\n",
    "ax.set(xlabel=\"Marks in Exam 1\",ylabel=\"Marks in Exam 2\",title=\"Exam1 vs Exam2\")\n",
    "ax.plot(X[positive[:,0],0],X[positive[:,0],1],c='g', marker = 'o', ls = '', markersize = 5)\n",
    "ax.plot(X[negative[:,0],0],X[negative[:,0],1],c='r', marker = 'x', ls = '', markersize = 5)\n",
    "ax.legend([\"Admitted\",\"Not admitted\"],loc=1)"
   ]
  },
  {
   "cell_type": "code",
   "execution_count": 9,
   "metadata": {},
   "outputs": [],
   "source": [
    "X = np.matrix(X)\n",
    "y = np.matrix(y)\n",
    "m,n = X.shape\n",
    "X_new = np.hstack((np.ones((m,1)),X))\n",
    "n = n+1"
   ]
  },
  {
   "cell_type": "code",
   "execution_count": 10,
   "metadata": {},
   "outputs": [
    {
     "name": "stdout",
     "output_type": "stream",
     "text": [
      "Cost when theta = \n",
      " [[0.]\n",
      " [0.]\n",
      " [0.]] \n",
      "is 0.6931471805599453\n",
      "Gradient when theta = \n",
      " [[0.]\n",
      " [0.]\n",
      " [0.]] \n",
      "is\n",
      " [ -0.1        -12.00921659 -11.26284221]\n"
     ]
    }
   ],
   "source": [
    "initialTheta = np.zeros((n,1))\n",
    "print(\"Cost when theta = \\n\",initialTheta,\"\\nis\",costFunction(initialTheta,X_new,y))\n",
    "print(\"Gradient when theta = \\n\",initialTheta,\"\\nis\\n\",grad(initialTheta,X_new,y))"
   ]
  },
  {
   "cell_type": "code",
   "execution_count": 11,
   "metadata": {},
   "outputs": [
    {
     "name": "stdout",
     "output_type": "stream",
     "text": [
      "Optimized parameters after running gradient Descent are: \n",
      " [[-25.16133284]\n",
      " [  0.2062317 ]\n",
      " [  0.2014716 ]]\n"
     ]
    },
    {
     "name": "stderr",
     "output_type": "stream",
     "text": [
      "c:\\users\\devak\\appdata\\local\\programs\\python\\python37\\lib\\site-packages\\ipykernel_launcher.py:5: RuntimeWarning: divide by zero encountered in log\n",
      "  \"\"\"\n",
      "c:\\users\\devak\\appdata\\local\\programs\\python\\python37\\lib\\site-packages\\ipykernel_launcher.py:5: RuntimeWarning: invalid value encountered in matmul\n",
      "  \"\"\"\n"
     ]
    }
   ],
   "source": [
    "result = minimize(fun = costFunction, x0 = initialTheta, args=(X_new,y), jac = grad)\n",
    "finalTheta = np.matrix(result.x).T\n",
    "print(\"Optimized parameters after running gradient Descent are: \\n\",finalTheta)"
   ]
  },
  {
   "cell_type": "code",
   "execution_count": 12,
   "metadata": {},
   "outputs": [
    {
     "name": "stdout",
     "output_type": "stream",
     "text": [
      "Cost after running gradient Descent is:  0.20349770158944375\n"
     ]
    }
   ],
   "source": [
    "print(\"Cost after running gradient Descent is: \",costFunction(finalTheta,X_new,y))"
   ]
  },
  {
   "cell_type": "code",
   "execution_count": 13,
   "metadata": {},
   "outputs": [
    {
     "data": {
      "text/plain": [
       "<matplotlib.legend.Legend at 0x244a5a11780>"
      ]
     },
     "execution_count": 13,
     "metadata": {},
     "output_type": "execute_result"
    },
    {
     "data": {
      "image/png": "[encoded data removed]",
      "text/plain": [
       "<Figure size 432x288 with 1 Axes>"
      ]
     },
     "metadata": {
      "needs_background": "light"
     },
     "output_type": "display_data"
    }
   ],
   "source": [
    "fig, ax = plt.subplots()\n",
    "ax.set(xlabel=\"Marks in Exam 1\",ylabel=\"Marks in Exam 2\",title=\"Exam1 vs Exam2\")\n",
    "ax.plot(X[positive[:,0],0],X[positive[:,0],1],c='g', marker = 'o', ls = '', markersize = 5)\n",
    "ax.plot(X[negative[:,0],0],X[negative[:,0],1],c='r', marker = 'x', ls = '', markersize = 5)\n",
    "x_values = [np.min(X_new[:, 1] - 5), np.max(X_new[:, 2] + 5)]\n",
    "y_values = - (finalTheta[0] + finalTheta[1].item()*np.array(x_values)) / finalTheta[2]\n",
    "y_values = np.squeeze(np.asarray(y_values))\n",
    "ax.plot(x_values,y_values)\n",
    "ax.legend([\"Admitted\", \"Not Admitted\"],loc=1)"
   ]
  },
  {
   "cell_type": "code",
   "execution_count": 14,
   "metadata": {},
   "outputs": [
    {
     "name": "stdout",
     "output_type": "stream",
     "text": [
      "Accuracy:  89.0\n"
     ]
    }
   ],
   "source": [
    "predictedValues = predict(finalTheta,X_new)\n",
    "print(\"Accuracy: \",np.mean((predictedValues == y).astype(int))*100)"
   ]
  },
  {
   "cell_type": "markdown",
   "metadata": {},
   "source": [
    "<center><h1>Logistic Regression using Regularization</h1></center>"
   ]
  },
  {
   "cell_type": "markdown",
   "metadata": {},
   "source": [
    "<p>Suppose you are the product manager of the factory and you have the\n",
    "test results for some microchips on two different tests. From these two tests,\n",
    "you would like to determine whether the microchips should be accepted or\n",
    "rejected. To help you make the decision, you have a dataset of test results\n",
    "on past microchips, from which you can build a logistic regression model.</p>"
   ]
  },
  {
   "cell_type": "code",
   "execution_count": 15,
   "metadata": {},
   "outputs": [],
   "source": [
    "def costFunctionReg(Theta,X,y,lamda):\n",
    "    m,n = X.shape\n",
    "    reg = 0\n",
    "    Theta = np.matrix(Theta).reshape(n,1)\n",
    "    H = sigmoid(Theta,X)\n",
    "    J = ((-1/m)*(y.T@np.log(H) + (1-y).T@np.log(1-H)))\n",
    "    reg = (0.5*lamda/m)*(Theta[1:,:].T @ Theta[1:,:])\n",
    "    J = J + reg\n",
    "    return J.item()"
   ]
  },
  {
   "cell_type": "code",
   "execution_count": 16,
   "metadata": {},
   "outputs": [],
   "source": [
    "def gradReg(Theta,X,y,lamda):\n",
    "    m,n = X.shape\n",
    "    Theta = np.matrix(Theta).reshape(n,1)\n",
    "    grad =(1/m)*(X.T @ (sigmoid(Theta,X)-y))\n",
    "    grad[1:,:] = grad[1:,:] + (lamda/m)*Theta[1:,:] \n",
    "    grad = np.squeeze(np.asarray(grad))\n",
    "    return grad"
   ]
  },
  {
   "cell_type": "code",
   "execution_count": 17,
   "metadata": {},
   "outputs": [],
   "source": [
    "data = np.loadtxt(\"Data/ex2data2.txt\", delimiter=',')\n",
    "X = data[:,:-1]\n",
    "y = data[:,-1:]"
   ]
  },
  {
   "cell_type": "code",
   "execution_count": 18,
   "metadata": {},
   "outputs": [
    {
     "data": {
      "text/plain": [
       "<matplotlib.legend.Legend at 0x244a5aae518>"
      ]
     },
     "execution_count": 18,
     "metadata": {},
     "output_type": "execute_result"
    },
    {
     "data": {
      "image/png": "[encoded data removed]",
      "text/plain": [
       "<Figure size 432x288 with 1 Axes>"
      ]
     },
     "metadata": {
      "needs_background": "light"
     },
     "output_type": "display_data"
    }
   ],
   "source": [
    "positive = (y==1)\n",
    "negative = (y==0)\n",
    "fig, ax = plt.subplots()\n",
    "ax.set(xlabel=\"Microchip test1\",ylabel=\"Microchip test2\",title=\"Test1 vs Test2\")\n",
    "ax.plot(X[positive[:,0],0],X[positive[:,0],1],c='g', marker = 'o', ls = '', markersize = 5)\n",
    "ax.plot(X[negative[:,0],0],X[negative[:,0],1],c='r', marker = 'x', ls = '', markersize = 5)\n",
    "ax.legend([\"Good\",\"Bad\"],loc=1)"
   ]
  },
  {
   "cell_type": "code",
   "execution_count": 19,
   "metadata": {},
   "outputs": [],
   "source": [
    "X = np.matrix(X)\n",
    "y = np.matrix(y)\n",
    "poly = PolynomialFeatures(6)\n",
    "X_new = poly.fit_transform(X)\n",
    "m,n = X_new.shape"
   ]
  },
  {
   "cell_type": "code",
   "execution_count": 20,
   "metadata": {},
   "outputs": [
    {
     "name": "stdout",
     "output_type": "stream",
     "text": [
      "Cost when theta = Zeros\n",
      "is 0.6931471805599454\n",
      "Grad when theta = Zeros\n",
      "is [8.47457627e-03 1.87880932e-02 7.77711864e-05 5.03446395e-02\n",
      " 1.15013308e-02 3.76648474e-02 1.83559872e-02 7.32393391e-03\n",
      " 8.19244468e-03 2.34764889e-02 3.93486234e-02 2.23923907e-03\n",
      " 1.28600503e-02 3.09593720e-03 3.93028171e-02 1.99707467e-02\n",
      " 4.32983232e-03 3.38643902e-03 5.83822078e-03 4.47629067e-03\n",
      " 3.10079849e-02 3.10312442e-02 1.09740238e-03 6.31570797e-03\n",
      " 4.08503006e-04 7.26504316e-03 1.37646175e-03 3.87936363e-02]\n"
     ]
    }
   ],
   "source": [
    "test_theta = np.zeros((n,1))\n",
    "print(\"Cost when theta = Zeros\\nis\",costFunctionReg(test_theta,X_new,y,10))\n",
    "print(\"Grad when theta = Zeros\\nis\",gradReg(test_theta,X_new,y,10))"
   ]
  },
  {
   "cell_type": "code",
   "execution_count": 21,
   "metadata": {},
   "outputs": [
    {
     "name": "stdout",
     "output_type": "stream",
     "text": [
      "Cost when theta = \n",
      "Ones\n",
      "is 3.1645093316150095\n",
      "Grad when theta = \n",
      "Ones\n",
      "is [0.34604507 0.16135192 0.19479576 0.22686278 0.09218568 0.24438558\n",
      " 0.14339212 0.10844171 0.10231439 0.18346846 0.17353003 0.08725552\n",
      " 0.11822776 0.0858433  0.19994895 0.13522653 0.09497527 0.09356441\n",
      " 0.09979784 0.09140157 0.17485242 0.14955442 0.08678566 0.09897686\n",
      " 0.08531951 0.10190666 0.08450198 0.18228323]\n"
     ]
    }
   ],
   "source": [
    "test_theta = np.ones((n,1))\n",
    "print(\"Cost when theta = \\nOnes\\nis\",costFunctionReg(test_theta,X_new,y,10))\n",
    "print(\"Grad when theta = \\nOnes\\nis\",gradReg(test_theta,X_new,y,10))"
   ]
  },
  {
   "cell_type": "code",
   "execution_count": 22,
   "metadata": {},
   "outputs": [
    {
     "name": "stdout",
     "output_type": "stream",
     "text": [
      "Optimized parameters after running gradient Descent are: \n",
      " [[ 1.27268739]\n",
      " [ 0.62557016]\n",
      " [ 1.1809665 ]\n",
      " [-2.01919822]\n",
      " [-0.91761468]\n",
      " [-1.43194199]\n",
      " [ 0.12375921]\n",
      " [-0.36513086]\n",
      " [-0.35703388]\n",
      " [-0.17485805]\n",
      " [-1.45843772]\n",
      " [-0.05129676]\n",
      " [-0.61603963]\n",
      " [-0.2746414 ]\n",
      " [-1.19282569]\n",
      " [-0.24270336]\n",
      " [-0.20570022]\n",
      " [-0.04499768]\n",
      " [-0.27782709]\n",
      " [-0.29525851]\n",
      " [-0.45613294]\n",
      " [-1.04377851]\n",
      " [ 0.02762813]\n",
      " [-0.29265642]\n",
      " [ 0.01543393]\n",
      " [-0.32759318]\n",
      " [-0.14389199]\n",
      " [-0.92460119]]\n"
     ]
    }
   ],
   "source": [
    "initialTheta = np.zeros((n,1))\n",
    "lamda = 1\n",
    "result = minimize(fun = costFunctionReg, x0 = initialTheta, args=(X_new,y,lamda), jac = gradReg)\n",
    "finalTheta = np.matrix(result.x).T\n",
    "print(\"Optimized parameters after running gradient Descent are: \\n\",finalTheta)"
   ]
  },
  {
   "cell_type": "code",
   "execution_count": 23,
   "metadata": {},
   "outputs": [
    {
     "name": "stdout",
     "output_type": "stream",
     "text": [
      "Cost when theta : Final Theta\n",
      "is 1.1279022737692763\n"
     ]
    }
   ],
   "source": [
    "print(\"Cost when theta : Final Theta\\nis\",costFunctionReg(finalTheta,X_new,y,10))"
   ]
  },
  {
   "cell_type": "code",
   "execution_count": 24,
   "metadata": {},
   "outputs": [
    {
     "name": "stdout",
     "output_type": "stream",
     "text": [
      "Accuracy:  83.05084745762711\n"
     ]
    }
   ],
   "source": [
    "predictedValues = predict(finalTheta,X_new)\n",
    "print(\"Accuracy: \",np.mean((predictedValues == y).astype(int))*100)"
   ]
  }
 ],
 "metadata": {
  "kernelspec": {
   "display_name": "Python 3",
   "language": "python",
   "name": "python3"
  },
  "language_info": {
   "codemirror_mode": {
    "name": "ipython",
    "version": 3
   },
   "file_extension": ".py",
   "mimetype": "text/x-python",
   "name": "python",
   "nbconvert_exporter": "python",
   "pygments_lexer": "ipython3",
   "version": "3.7.3"
  }
 },
 "nbformat": 4,
 "nbformat_minor": 2
}
