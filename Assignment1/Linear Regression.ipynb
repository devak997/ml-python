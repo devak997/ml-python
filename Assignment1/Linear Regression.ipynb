{
 "cells": [
  {
   "cell_type": "markdown",
   "metadata": {},
   "source": [
    "<center><h1>Linear Regression with one variable</h1></center>"
   ]
  },
  {
   "cell_type": "markdown",
   "metadata": {},
   "source": [
    "<p>\n",
    "    Suppose you are the CEO of a restaurant franchise and are considering different cities for opening a new\n",
    "    outlet. The chain already has trucks in various cities and you have data for\n",
    "    profits and populations from the cities.You would like to use this data to help you select which city to expand\n",
    "to next.\n",
    "</p>"
   ]
  },
  {
   "cell_type": "code",
   "execution_count": 1,
   "metadata": {},
   "outputs": [],
   "source": [
    "import numpy as np\n",
    "import matplotlib.pyplot as plt\n",
    "from numpy.linalg import pinv\n",
    "%matplotlib inline"
   ]
  },
  {
   "cell_type": "markdown",
   "metadata": {},
   "source": [
    "Let us define our hypothesis, costFunction and implementaion of gradient Descent in a vectorised way.."
   ]
  },
  {
   "cell_type": "code",
   "execution_count": 2,
   "metadata": {},
   "outputs": [],
   "source": [
    "def hypothesis(Theta,X):\n",
    "    return X@Theta    #Vectorised Implementation"
   ]
  },
  {
   "cell_type": "code",
   "execution_count": 3,
   "metadata": {},
   "outputs": [],
   "source": [
    "def costFunction(Theta,X,Y):\n",
    "    m,n = X.shape\n",
    "    return ((0.5/m)*((hypothesis(Theta,X) - Y).T @ (hypothesis(Theta,X) - Y))).item()   #Vectorised Implementation"
   ]
  },
  {
   "cell_type": "code",
   "execution_count": 4,
   "metadata": {},
   "outputs": [],
   "source": [
    "def gradientDescent(Theta,X,Y,alpha,iterations):\n",
    "    m,n = X.shape\n",
    "    for count in range(0,iterations):\n",
    "        Theta = Theta - (alpha * (1/m)*(X.T @ (hypothesis(Theta,X)-Y)))    #Vectorised Implementation\n",
    "    return Theta"
   ]
  },
  {
   "cell_type": "markdown",
   "metadata": {},
   "source": [
    "We have the data in csv format as population,profit"
   ]
  },
  {
   "cell_type": "code",
   "execution_count": 5,
   "metadata": {},
   "outputs": [],
   "source": [
    "data = np.loadtxt(\"Data/ex1data1.txt\", delimiter=\",\")\n",
    "X =  data[:,:-1]\n",
    "Y =  data[:,-1:]"
   ]
  },
  {
   "cell_type": "markdown",
   "metadata": {},
   "source": [
    "Visualizing data: Population vs Profit"
   ]
  },
  {
   "cell_type": "code",
   "execution_count": 6,
   "metadata": {},
   "outputs": [
    {
     "data": {
      "text/plain": [
       "[Text(0, 0.5, 'Profits from the city in $10,000'),\n",
       " Text(0.5, 0, \"Population of city in 10,000's\"),\n",
       " Text(0.5, 1.0, 'Population vs Profit')]"
      ]
     },
     "execution_count": 6,
     "metadata": {},
     "output_type": "execute_result"
    },
    {
     "data": {
      "image/png": "[encoded data removed]",
      "text/plain": [
       "<Figure size 432x288 with 1 Axes>"
      ]
     },
     "metadata": {
      "needs_background": "light"
     },
     "output_type": "display_data"
    }
   ],
   "source": [
    "fig, ax = plt.subplots()\n",
    "ax.plot(X,Y,ls='', marker = 'x', label='Population vs Profit')\n",
    "ax.set(xlabel=\"Population of city in 10,000's\", ylabel=\"Profits from the city in $10,000\", title='Population vs Profit')"
   ]
  },
  {
   "cell_type": "markdown",
   "metadata": {},
   "source": [
    "Converting data into matrices as adding column of ones to X"
   ]
  },
  {
   "cell_type": "code",
   "execution_count": 7,
   "metadata": {},
   "outputs": [],
   "source": [
    "X = np.matrix(X)\n",
    "Y = np.matrix(Y)\n",
    "m,n = X.shape\n",
    "X_new = np.hstack((np.ones((m,1)),X))\n",
    "n = n+1"
   ]
  },
  {
   "cell_type": "markdown",
   "metadata": {},
   "source": [
    "Let us take, theta initially as zeros and set learning rate (alpha) and number of iterations"
   ]
  },
  {
   "cell_type": "code",
   "execution_count": 8,
   "metadata": {},
   "outputs": [],
   "source": [
    "initialTheta = np.zeros((n,1))    \n",
    "alpha = 0.01    #Learning rate\n",
    "iterations = 1500"
   ]
  },
  {
   "cell_type": "markdown",
   "metadata": {},
   "source": [
    "Cost when initial parameters are zero."
   ]
  },
  {
   "cell_type": "code",
   "execution_count": 9,
   "metadata": {},
   "outputs": [
    {
     "name": "stdout",
     "output_type": "stream",
     "text": [
      "Cost when theta is\n",
      " [[0.]\n",
      " [0.]] \n",
      "is:  32.072733877455676\n"
     ]
    }
   ],
   "source": [
    "print(\"Cost when theta is\\n\",initialTheta,\"\\nis: \",costFunction(initialTheta,X_new,Y))"
   ]
  },
  {
   "cell_type": "markdown",
   "metadata": {},
   "source": [
    "Running Gradient Descent:"
   ]
  },
  {
   "cell_type": "code",
   "execution_count": 10,
   "metadata": {},
   "outputs": [
    {
     "name": "stdout",
     "output_type": "stream",
     "text": [
      "Optimized parameters after running gradient Descent are: \n",
      " [[-3.63029144]\n",
      " [ 1.16636235]]\n"
     ]
    }
   ],
   "source": [
    "finalTheta = gradientDescent(initialTheta,X_new,Y,alpha,iterations)\n",
    "print(\"Optimized parameters after running gradient Descent are: \\n\",finalTheta)"
   ]
  },
  {
   "cell_type": "markdown",
   "metadata": {},
   "source": [
    "Cost after running Gradient Descent:"
   ]
  },
  {
   "cell_type": "code",
   "execution_count": 11,
   "metadata": {},
   "outputs": [
    {
     "name": "stdout",
     "output_type": "stream",
     "text": [
      "Cost after running gradient Descent is:  4.483388256587725\n"
     ]
    }
   ],
   "source": [
    "print(\"Cost after running gradient Descent is: \",costFunction(finalTheta,X_new,Y))"
   ]
  },
  {
   "cell_type": "markdown",
   "metadata": {},
   "source": [
    "Linear fit after obtaining the values of theta:"
   ]
  },
  {
   "cell_type": "code",
   "execution_count": 12,
   "metadata": {},
   "outputs": [
    {
     "data": {
      "text/plain": [
       "[Text(0, 0.5, 'Profits from the city in $10,000'),\n",
       " Text(0.5, 0, \"Population of city in 10,000's\"),\n",
       " Text(0.5, 1.0, 'Population vs Profit')]"
      ]
     },
     "execution_count": 12,
     "metadata": {},
     "output_type": "execute_result"
    },
    {
     "data": {
      "image/png": "[encoded data removed]",
      "text/plain": [
       "<Figure size 432x288 with 1 Axes>"
      ]
     },
     "metadata": {
      "needs_background": "light"
     },
     "output_type": "display_data"
    }
   ],
   "source": [
    "fig, ax = plt.subplots()\n",
    "ax.plot(X,Y,ls='', marker = 'x', label='Population vs Profit')\n",
    "ax.plot(X,hypothesis(finalTheta,X_new))\n",
    "ax.set(xlabel=\"Population of city in 10,000's\", ylabel=\"Profits from the city in $10,000\", title='Population vs Profit')"
   ]
  },
  {
   "cell_type": "markdown",
   "metadata": {},
   "source": [
    "Predicting profits for given population using our model:"
   ]
  },
  {
   "cell_type": "code",
   "execution_count": 13,
   "metadata": {},
   "outputs": [
    {
     "name": "stdout",
     "output_type": "stream",
     "text": [
      "Profits in $10,000's when the city population is 35,000:  [[0.45197679]]\n",
      "Profits in $10,000's when the city population is 70,000:  [[4.53424501]]\n"
     ]
    }
   ],
   "source": [
    "print(\"Profits in $10,000's when the city population is 35,000: \",[1, 3.5]*finalTheta)\n",
    "print(\"Profits in $10,000's when the city population is 70,000: \",[1, 7]*finalTheta)"
   ]
  },
  {
   "cell_type": "markdown",
   "metadata": {},
   "source": [
    "<br>"
   ]
  },
  {
   "cell_type": "markdown",
   "metadata": {},
   "source": [
    "<center>\n",
    "    <h1>Linear Regreesion with multivariable</h1>\n",
    "</center>"
   ]
  },
  {
   "cell_type": "markdown",
   "metadata": {},
   "source": [
    "<p>\n",
    "    Suppose you are selling your house and you\n",
    "want to know what a good market price would be. One way to do this is to\n",
    "first collect information on recent houses sold and make a model of housing\n",
    "prices.\n",
    "</p>"
   ]
  },
  {
   "cell_type": "markdown",
   "metadata": {},
   "source": [
    "<b>Note: <i>hypothesis, costFunction, gradientDescent</i> are same as above. "
   ]
  },
  {
   "cell_type": "markdown",
   "metadata": {},
   "source": [
    "Feature Normalization:"
   ]
  },
  {
   "cell_type": "code",
   "execution_count": 14,
   "metadata": {},
   "outputs": [],
   "source": [
    "def featureNormalization(X):\n",
    "    m, n = X.shape\n",
    "    means = []\n",
    "    stds = []\n",
    "    for column in range(1,n):\n",
    "        mean = X[:,column].mean()\n",
    "        std = X[:,column].std()\n",
    "        means.append(mean)\n",
    "        stds.append(std)\n",
    "        X[:,column] = (X[:,column] - mean)/std\n",
    "    return X, means, stds"
   ]
  },
  {
   "cell_type": "code",
   "execution_count": 15,
   "metadata": {},
   "outputs": [],
   "source": [
    "def predict(X,theta,means,stds):\n",
    "    X = np.matrix(X)\n",
    "    m,n = X.shape\n",
    "    for column in range(1,n):\n",
    "        X[0:,column] = (X[0:,column] - means[column-1])/stds[column-1]\n",
    "    return X@theta"
   ]
  },
  {
   "cell_type": "markdown",
   "metadata": {},
   "source": [
    "Loading Data:"
   ]
  },
  {
   "cell_type": "code",
   "execution_count": 16,
   "metadata": {},
   "outputs": [],
   "source": [
    "data = np.loadtxt(\"Data/ex1data2.txt\", delimiter=',')\n",
    "X =  data[:,:-1]\n",
    "Y =  data[:,-1:]"
   ]
  },
  {
   "cell_type": "markdown",
   "metadata": {},
   "source": [
    "Converting data into matrices, adding column of ones to X and normalizing features:"
   ]
  },
  {
   "cell_type": "code",
   "execution_count": 17,
   "metadata": {},
   "outputs": [],
   "source": [
    "X = np.matrix(X)\n",
    "Y = np.matrix(Y)\n",
    "m,n = X.shape\n",
    "X_new = np.hstack((np.ones((m,1)),X))\n",
    "X_new,means,stds = featureNormalization(X_new)\n",
    "n = n+1"
   ]
  },
  {
   "cell_type": "markdown",
   "metadata": {},
   "source": [
    "Intializing theta, learning rate and number of iterations:"
   ]
  },
  {
   "cell_type": "code",
   "execution_count": 18,
   "metadata": {},
   "outputs": [],
   "source": [
    "initialTheta = np.zeros((n,1))    \n",
    "alpha = 0.01    #Learning rate\n",
    "iterations = 400"
   ]
  },
  {
   "cell_type": "markdown",
   "metadata": {},
   "source": [
    "Cost when initial parameters are zero."
   ]
  },
  {
   "cell_type": "code",
   "execution_count": 19,
   "metadata": {},
   "outputs": [
    {
     "name": "stdout",
     "output_type": "stream",
     "text": [
      "Cost when theta is\n",
      " [[0.]\n",
      " [0.]\n",
      " [0.]] \n",
      "is:  65591548106.45744\n"
     ]
    }
   ],
   "source": [
    "print(\"Cost when theta is\\n\",initialTheta,\"\\nis: \",costFunction(initialTheta,X_new,Y))"
   ]
  },
  {
   "cell_type": "markdown",
   "metadata": {},
   "source": [
    "Running Gradient Descent:"
   ]
  },
  {
   "cell_type": "code",
   "execution_count": 20,
   "metadata": {},
   "outputs": [
    {
     "name": "stdout",
     "output_type": "stream",
     "text": [
      "Optimized parameters after running gradient Descent are: \n",
      " [[334302.06399328]\n",
      " [ 99411.44947359]\n",
      " [  3267.01285407]]\n"
     ]
    }
   ],
   "source": [
    "finalTheta = gradientDescent(initialTheta,X_new,Y,alpha,iterations)\n",
    "print(\"Optimized parameters after running gradient Descent are: \\n\",finalTheta)"
   ]
  },
  {
   "cell_type": "markdown",
   "metadata": {},
   "source": [
    "Cost after running Gradient Descent:"
   ]
  },
  {
   "cell_type": "code",
   "execution_count": 21,
   "metadata": {},
   "outputs": [
    {
     "name": "stdout",
     "output_type": "stream",
     "text": [
      "Cost after running gradient Descent is:  2105448288.6292472\n"
     ]
    }
   ],
   "source": [
    "print(\"Cost after running gradient Descent is: \",costFunction(finalTheta,X_new,Y))"
   ]
  },
  {
   "cell_type": "markdown",
   "metadata": {},
   "source": [
    "Predicting cost of the houses using our model:"
   ]
  },
  {
   "cell_type": "code",
   "execution_count": 22,
   "metadata": {},
   "outputs": [
    {
     "name": "stdout",
     "output_type": "stream",
     "text": [
      "Predicted price of a 1650 sq-ft, 3 br house (using gradient descent):  289221.5473712181\n"
     ]
    }
   ],
   "source": [
    "print(\"Predicted price of a 1650 sq-ft, 3 br house (using gradient descent): \",predict([1.,1650.,3.],finalTheta,means,stds).item())"
   ]
  },
  {
   "cell_type": "markdown",
   "metadata": {},
   "source": [
    "<br>"
   ]
  },
  {
   "cell_type": "markdown",
   "metadata": {},
   "source": [
    "<center>\n",
    "    <h1>Normal equation Method</h1>\n",
    " </center>"
   ]
  },
  {
   "cell_type": "code",
   "execution_count": 23,
   "metadata": {},
   "outputs": [],
   "source": [
    "def normalEqn(X,y):\n",
    "    return pinv(X.T@X)@X.T@y"
   ]
  },
  {
   "cell_type": "markdown",
   "metadata": {},
   "source": [
    "Loading Data"
   ]
  },
  {
   "cell_type": "code",
   "execution_count": 24,
   "metadata": {},
   "outputs": [],
   "source": [
    "data = np.loadtxt(\"Data/ex1data2.txt\", delimiter=',')\n",
    "X =  data[:,:-1]\n",
    "Y =  data[:,-1:]"
   ]
  },
  {
   "cell_type": "code",
   "execution_count": 25,
   "metadata": {},
   "outputs": [],
   "source": [
    "X = np.matrix(X)\n",
    "Y = np.matrix(Y)\n",
    "m,n = X.shape\n",
    "X_new = np.hstack((np.ones((m,1)),X))\n",
    "n = n+1"
   ]
  },
  {
   "cell_type": "markdown",
   "metadata": {},
   "source": [
    "Applying normal equation to get theta"
   ]
  },
  {
   "cell_type": "code",
   "execution_count": 26,
   "metadata": {},
   "outputs": [],
   "source": [
    "theta = normalEqn(X_new,Y)"
   ]
  },
  {
   "cell_type": "markdown",
   "metadata": {},
   "source": [
    "Predicting values:"
   ]
  },
  {
   "cell_type": "code",
   "execution_count": 27,
   "metadata": {},
   "outputs": [
    {
     "name": "stdout",
     "output_type": "stream",
     "text": [
      "Predicted price of a 1650 sq-ft, 3 br house (using normal eqn):  [[293081.46433497]]\n"
     ]
    }
   ],
   "source": [
    "print(\"Predicted price of a 1650 sq-ft, 3 br house (using normal eqn): \",[1.,1650.,3.]*theta)"
   ]
  }
 ],
 "metadata": {
  "kernelspec": {
   "display_name": "Python 3",
   "language": "python",
   "name": "python3"
  },
  "language_info": {
   "codemirror_mode": {
    "name": "ipython",
    "version": 3
   },
   "file_extension": ".py",
   "mimetype": "text/x-python",
   "name": "python",
   "nbconvert_exporter": "python",
   "pygments_lexer": "ipython3",
   "version": "3.7.3"
  }
 },
 "nbformat": 4,
 "nbformat_minor": 2
}
